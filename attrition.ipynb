{
  "cells": [
    {
      "cell_type": "markdown",
      "metadata": {
        "id": "alIIEHibGc3M"
      },
      "source": [
        "## Part 1: Preprocessing"
      ]
    },
    {
      "cell_type": "code",
      "execution_count": 224,
      "metadata": {
        "colab": {
          "base_uri": "https://localhost:8080/",
          "height": 325
        },
        "id": "6eDUJ4NtGc3P",
        "outputId": "2480098c-135c-4cbf-9552-018494ee8ff5"
      },
      "outputs": [
        {
          "data": {
            "text/html": [
              "<div>\n",
              "<style scoped>\n",
              "    .dataframe tbody tr th:only-of-type {\n",
              "        vertical-align: middle;\n",
              "    }\n",
              "\n",
              "    .dataframe tbody tr th {\n",
              "        vertical-align: top;\n",
              "    }\n",
              "\n",
              "    .dataframe thead th {\n",
              "        text-align: right;\n",
              "    }\n",
              "</style>\n",
              "<table border=\"1\" class=\"dataframe\">\n",
              "  <thead>\n",
              "    <tr style=\"text-align: right;\">\n",
              "      <th></th>\n",
              "      <th>Age</th>\n",
              "      <th>Attrition</th>\n",
              "      <th>BusinessTravel</th>\n",
              "      <th>Department</th>\n",
              "      <th>DistanceFromHome</th>\n",
              "      <th>Education</th>\n",
              "      <th>EducationField</th>\n",
              "      <th>EnvironmentSatisfaction</th>\n",
              "      <th>HourlyRate</th>\n",
              "      <th>JobInvolvement</th>\n",
              "      <th>...</th>\n",
              "      <th>PerformanceRating</th>\n",
              "      <th>RelationshipSatisfaction</th>\n",
              "      <th>StockOptionLevel</th>\n",
              "      <th>TotalWorkingYears</th>\n",
              "      <th>TrainingTimesLastYear</th>\n",
              "      <th>WorkLifeBalance</th>\n",
              "      <th>YearsAtCompany</th>\n",
              "      <th>YearsInCurrentRole</th>\n",
              "      <th>YearsSinceLastPromotion</th>\n",
              "      <th>YearsWithCurrManager</th>\n",
              "    </tr>\n",
              "  </thead>\n",
              "  <tbody>\n",
              "    <tr>\n",
              "      <th>0</th>\n",
              "      <td>41</td>\n",
              "      <td>Yes</td>\n",
              "      <td>Travel_Rarely</td>\n",
              "      <td>Sales</td>\n",
              "      <td>1</td>\n",
              "      <td>2</td>\n",
              "      <td>Life Sciences</td>\n",
              "      <td>2</td>\n",
              "      <td>94</td>\n",
              "      <td>3</td>\n",
              "      <td>...</td>\n",
              "      <td>3</td>\n",
              "      <td>1</td>\n",
              "      <td>0</td>\n",
              "      <td>8</td>\n",
              "      <td>0</td>\n",
              "      <td>1</td>\n",
              "      <td>6</td>\n",
              "      <td>4</td>\n",
              "      <td>0</td>\n",
              "      <td>5</td>\n",
              "    </tr>\n",
              "    <tr>\n",
              "      <th>1</th>\n",
              "      <td>49</td>\n",
              "      <td>No</td>\n",
              "      <td>Travel_Frequently</td>\n",
              "      <td>Research &amp; Development</td>\n",
              "      <td>8</td>\n",
              "      <td>1</td>\n",
              "      <td>Life Sciences</td>\n",
              "      <td>3</td>\n",
              "      <td>61</td>\n",
              "      <td>2</td>\n",
              "      <td>...</td>\n",
              "      <td>4</td>\n",
              "      <td>4</td>\n",
              "      <td>1</td>\n",
              "      <td>10</td>\n",
              "      <td>3</td>\n",
              "      <td>3</td>\n",
              "      <td>10</td>\n",
              "      <td>7</td>\n",
              "      <td>1</td>\n",
              "      <td>7</td>\n",
              "    </tr>\n",
              "    <tr>\n",
              "      <th>2</th>\n",
              "      <td>37</td>\n",
              "      <td>Yes</td>\n",
              "      <td>Travel_Rarely</td>\n",
              "      <td>Research &amp; Development</td>\n",
              "      <td>2</td>\n",
              "      <td>2</td>\n",
              "      <td>Other</td>\n",
              "      <td>4</td>\n",
              "      <td>92</td>\n",
              "      <td>2</td>\n",
              "      <td>...</td>\n",
              "      <td>3</td>\n",
              "      <td>2</td>\n",
              "      <td>0</td>\n",
              "      <td>7</td>\n",
              "      <td>3</td>\n",
              "      <td>3</td>\n",
              "      <td>0</td>\n",
              "      <td>0</td>\n",
              "      <td>0</td>\n",
              "      <td>0</td>\n",
              "    </tr>\n",
              "    <tr>\n",
              "      <th>3</th>\n",
              "      <td>33</td>\n",
              "      <td>No</td>\n",
              "      <td>Travel_Frequently</td>\n",
              "      <td>Research &amp; Development</td>\n",
              "      <td>3</td>\n",
              "      <td>4</td>\n",
              "      <td>Life Sciences</td>\n",
              "      <td>4</td>\n",
              "      <td>56</td>\n",
              "      <td>3</td>\n",
              "      <td>...</td>\n",
              "      <td>3</td>\n",
              "      <td>3</td>\n",
              "      <td>0</td>\n",
              "      <td>8</td>\n",
              "      <td>3</td>\n",
              "      <td>3</td>\n",
              "      <td>8</td>\n",
              "      <td>7</td>\n",
              "      <td>3</td>\n",
              "      <td>0</td>\n",
              "    </tr>\n",
              "    <tr>\n",
              "      <th>4</th>\n",
              "      <td>27</td>\n",
              "      <td>No</td>\n",
              "      <td>Travel_Rarely</td>\n",
              "      <td>Research &amp; Development</td>\n",
              "      <td>2</td>\n",
              "      <td>1</td>\n",
              "      <td>Medical</td>\n",
              "      <td>1</td>\n",
              "      <td>40</td>\n",
              "      <td>3</td>\n",
              "      <td>...</td>\n",
              "      <td>3</td>\n",
              "      <td>4</td>\n",
              "      <td>1</td>\n",
              "      <td>6</td>\n",
              "      <td>3</td>\n",
              "      <td>3</td>\n",
              "      <td>2</td>\n",
              "      <td>2</td>\n",
              "      <td>2</td>\n",
              "      <td>2</td>\n",
              "    </tr>\n",
              "  </tbody>\n",
              "</table>\n",
              "<p>5 rows × 27 columns</p>\n",
              "</div>"
            ],
            "text/plain": [
              "   Age Attrition     BusinessTravel              Department  DistanceFromHome  \\\n",
              "0   41       Yes      Travel_Rarely                   Sales                 1   \n",
              "1   49        No  Travel_Frequently  Research & Development                 8   \n",
              "2   37       Yes      Travel_Rarely  Research & Development                 2   \n",
              "3   33        No  Travel_Frequently  Research & Development                 3   \n",
              "4   27        No      Travel_Rarely  Research & Development                 2   \n",
              "\n",
              "   Education EducationField  EnvironmentSatisfaction  HourlyRate  \\\n",
              "0          2  Life Sciences                        2          94   \n",
              "1          1  Life Sciences                        3          61   \n",
              "2          2          Other                        4          92   \n",
              "3          4  Life Sciences                        4          56   \n",
              "4          1        Medical                        1          40   \n",
              "\n",
              "   JobInvolvement  ...  PerformanceRating RelationshipSatisfaction  \\\n",
              "0               3  ...                  3                        1   \n",
              "1               2  ...                  4                        4   \n",
              "2               2  ...                  3                        2   \n",
              "3               3  ...                  3                        3   \n",
              "4               3  ...                  3                        4   \n",
              "\n",
              "   StockOptionLevel TotalWorkingYears  TrainingTimesLastYear WorkLifeBalance  \\\n",
              "0                 0                 8                      0               1   \n",
              "1                 1                10                      3               3   \n",
              "2                 0                 7                      3               3   \n",
              "3                 0                 8                      3               3   \n",
              "4                 1                 6                      3               3   \n",
              "\n",
              "   YearsAtCompany  YearsInCurrentRole  YearsSinceLastPromotion  \\\n",
              "0               6                   4                        0   \n",
              "1              10                   7                        1   \n",
              "2               0                   0                        0   \n",
              "3               8                   7                        3   \n",
              "4               2                   2                        2   \n",
              "\n",
              "   YearsWithCurrManager  \n",
              "0                     5  \n",
              "1                     7  \n",
              "2                     0  \n",
              "3                     0  \n",
              "4                     2  \n",
              "\n",
              "[5 rows x 27 columns]"
            ]
          },
          "execution_count": 224,
          "metadata": {},
          "output_type": "execute_result"
        }
      ],
      "source": [
        "# Import our dependencies\n",
        "from sklearn.model_selection import train_test_split\n",
        "from sklearn.preprocessing import StandardScaler\n",
        "import pandas as pd\n",
        "import numpy as np\n",
        "from tensorflow.keras.models import Model\n",
        "from tensorflow.keras import layers\n",
        "\n",
        "#  Import and read the attrition data\n",
        "attrition_df = pd.read_csv('https://static.bc-edx.com/ai/ail-v-1-0/m19/lms/datasets/attrition.csv')\n",
        "attrition_df.head()"
      ]
    },
    {
      "cell_type": "code",
      "execution_count": 225,
      "metadata": {
        "colab": {
          "base_uri": "https://localhost:8080/"
        },
        "id": "g22aQSY4Gc3Q",
        "outputId": "1f5c13c1-b981-4e40-a7ed-dd3fe6f1b81e"
      },
      "outputs": [
        {
          "data": {
            "text/plain": [
              "Age                         43\n",
              "Attrition                    2\n",
              "BusinessTravel               3\n",
              "Department                   3\n",
              "DistanceFromHome            29\n",
              "Education                    5\n",
              "EducationField               6\n",
              "EnvironmentSatisfaction      4\n",
              "HourlyRate                  71\n",
              "JobInvolvement               4\n",
              "JobLevel                     5\n",
              "JobRole                      9\n",
              "JobSatisfaction              4\n",
              "MaritalStatus                3\n",
              "NumCompaniesWorked          10\n",
              "OverTime                     2\n",
              "PercentSalaryHike           15\n",
              "PerformanceRating            2\n",
              "RelationshipSatisfaction     4\n",
              "StockOptionLevel             4\n",
              "TotalWorkingYears           40\n",
              "TrainingTimesLastYear        7\n",
              "WorkLifeBalance              4\n",
              "YearsAtCompany              37\n",
              "YearsInCurrentRole          19\n",
              "YearsSinceLastPromotion     16\n",
              "YearsWithCurrManager        18\n",
              "dtype: int64"
            ]
          },
          "execution_count": 225,
          "metadata": {},
          "output_type": "execute_result"
        }
      ],
      "source": [
        "# Determine the number of unique values in each column.\n",
        "attrition_df.nunique()"
      ]
    },
    {
      "cell_type": "code",
      "execution_count": 226,
      "metadata": {
        "id": "50vMgBEnJbfM"
      },
      "outputs": [],
      "source": [
        "# Create y_df with the Attrition and Department columns\n",
        "y_df = attrition_df[['Attrition', 'Department']]"
      ]
    },
    {
      "cell_type": "code",
      "execution_count": 227,
      "metadata": {
        "colab": {
          "base_uri": "https://localhost:8080/"
        },
        "id": "Virka0zLGc3R",
        "outputId": "dd5aee3a-9458-4ba6-e857-1b234de40915"
      },
      "outputs": [
        {
          "data": {
            "text/plain": [
              "Education                   int64\n",
              "Age                         int64\n",
              "DistanceFromHome            int64\n",
              "JobSatisfaction             int64\n",
              "OverTime                   object\n",
              "StockOptionLevel            int64\n",
              "WorkLifeBalance             int64\n",
              "YearsAtCompany              int64\n",
              "YearsSinceLastPromotion     int64\n",
              "NumCompaniesWorked          int64\n",
              "dtype: object"
            ]
          },
          "execution_count": 227,
          "metadata": {},
          "output_type": "execute_result"
        }
      ],
      "source": [
        "# Create a list of at least 10 column names to use as X data\n",
        "X = ['Education', 'Age', 'DistanceFromHome', 'JobSatisfaction', 'OverTime', 'StockOptionLevel', 'WorkLifeBalance', \n",
        "     'YearsAtCompany', 'YearsSinceLastPromotion', 'NumCompaniesWorked']\n",
        "\n",
        "\n",
        "# Create X_df using your selected columns\n",
        "X_df = attrition_df[X]\n",
        "\n",
        "# Show the data types for X_df\n",
        "X_df.dtypes\n"
      ]
    },
    {
      "cell_type": "code",
      "execution_count": 228,
      "metadata": {
        "id": "KaJfdOGUMHMR"
      },
      "outputs": [],
      "source": [
        "# Split the data into training and testing sets\n",
        "from sklearn.model_selection import train_test_split\n",
        "X_train, X_test, y_train, y_test = train_test_split(X_df, y_df, random_state=78)\n"
      ]
    },
    {
      "cell_type": "code",
      "execution_count": 229,
      "metadata": {
        "colab": {
          "base_uri": "https://localhost:8080/"
        },
        "id": "NYubUJqiLCSp",
        "outputId": "53f31721-571c-4c94-d13e-25a715749593"
      },
      "outputs": [],
      "source": [
        "# Convert your X data to numeric data types however you see fit\n",
        "# Add new code cells as necessary\n",
        "X_train = pd.get_dummies(X_train)\n",
        "X_test = pd.get_dummies(X_test)\n",
        "X_test = X_test.reindex(columns=X_train.columns, fill_value=0)\n"
      ]
    },
    {
      "cell_type": "code",
      "execution_count": 230,
      "metadata": {
        "id": "EWA-aIA5Gc3T"
      },
      "outputs": [],
      "source": [
        "# Create a StandardScaler\n",
        "scaler = StandardScaler()\n",
        "\n",
        "# Fit the StandardScaler to the training data\n",
        "X_scaler = scaler.fit(X_train)\n",
        "\n",
        "# Scale the training and testing data\n",
        "X_train_scaled = X_scaler.transform(X_train)\n",
        "X_test_scaled = X_scaler.transform(X_test)\n"
      ]
    },
    {
      "cell_type": "code",
      "execution_count": 231,
      "metadata": {
        "colab": {
          "base_uri": "https://localhost:8080/"
        },
        "id": "-z0Mky8vQSz4",
        "outputId": "debefc85-c20b-48f5-f4d9-91eadd65d36a"
      },
      "outputs": [
        {
          "data": {
            "text/plain": [
              "array([[0., 0., 1.],\n",
              "       [0., 1., 0.],\n",
              "       [0., 0., 1.],\n",
              "       ...,\n",
              "       [0., 1., 0.],\n",
              "       [0., 0., 1.],\n",
              "       [0., 1., 0.]])"
            ]
          },
          "execution_count": 231,
          "metadata": {},
          "output_type": "execute_result"
        }
      ],
      "source": [
        "# Create a OneHotEncoder for the Department column\n",
        "from sklearn.preprocessing import OneHotEncoder\n",
        "enc = OneHotEncoder(sparse_output=False)\n",
        "\n",
        "# Fit the encoder to the training data\n",
        "encoded_department = enc.fit(y_train[['Department']])\n",
        "\n",
        "# Create two new variables by applying the encoder\n",
        "# to the training and testing data\n",
        "y_train_encoded_dept = enc.transform(y_train[['Department']])\n",
        "y_test_encoded_dept = enc.transform(y_test[['Department']])\n",
        "y_train_encoded_dept\n",
        "\n"
      ]
    },
    {
      "cell_type": "code",
      "execution_count": 232,
      "metadata": {
        "colab": {
          "base_uri": "https://localhost:8080/"
        },
        "id": "-G4DSpvFRrk4",
        "outputId": "9842e948-8a55-4b80-8fac-f96714e85589"
      },
      "outputs": [
        {
          "data": {
            "text/plain": [
              "array([[0., 1.],\n",
              "       [1., 0.],\n",
              "       [0., 1.],\n",
              "       ...,\n",
              "       [1., 0.],\n",
              "       [1., 0.],\n",
              "       [0., 1.]])"
            ]
          },
          "execution_count": 232,
          "metadata": {},
          "output_type": "execute_result"
        }
      ],
      "source": [
        "# Create a OneHotEncoder for the Attrition column\n",
        "# enc = OneHotEncoder(sparse_output=False)\n",
        "\n",
        "# Fit the encoder to the training data\n",
        "encoded_attrition = enc.fit(y_train[['Attrition']])\n",
        "\n",
        "# Create two new variables by applying the encoder\n",
        "# to the training and testing data\n",
        "y_train_encoded_att = enc.transform(y_train[['Attrition']])\n",
        "y_test_encoded_att = enc.transform(y_test[['Attrition']])\n",
        "y_train_encoded_att\n",
        "\n"
      ]
    },
    {
      "cell_type": "markdown",
      "metadata": {
        "id": "ykNmu_WWGc3T"
      },
      "source": [
        "## Create, Compile, and Train the Model"
      ]
    },
    {
      "cell_type": "code",
      "execution_count": 233,
      "metadata": {
        "id": "WUptZqmSGc3T"
      },
      "outputs": [],
      "source": [
        "# Find the number of columns in the X training data\n",
        "X_train.shape[1]\n",
        "\n",
        "# Create the input layer\n",
        "input_layer = layers.Input(shape=(X_train.shape[1],), name='input')\n",
        "\n",
        "# Create at least two shared layers\n",
        "shared_layer1 = layers.Dense(units=64, activation='relu')(input_layer)\n",
        "shared_layer2 = layers.Dense(units=128, activation='relu')(shared_layer1)\n"
      ]
    },
    {
      "cell_type": "code",
      "execution_count": 234,
      "metadata": {
        "id": "JukjTm2yTEqd"
      },
      "outputs": [],
      "source": [
        "# Create a branch for Department\n",
        "# with a hidden layer and an output layer\n",
        "\n",
        "# Create the hidden layer\n",
        "department_hidden_layer = layers.Dense(units=32, activation='relu')(shared_layer2)\n",
        "\n",
        "# Create the output layer with name 'department_output'\n",
        "department_output_layer = layers.Dense(units=3, activation='softmax', name='department')(department_hidden_layer)"
      ]
    },
    {
      "cell_type": "code",
      "execution_count": 235,
      "metadata": {
        "id": "9OqhUiOJUBkR"
      },
      "outputs": [],
      "source": [
        "# Create a branch for Attrition\n",
        "# with a hidden layer and an output layer\n",
        "\n",
        "# Create the hidden layer\n",
        "attrition_hidden_layer = layers.Dense(units=32, activation='relu')(shared_layer2)\n",
        "\n",
        "# Create the output layer\n",
        "attrition_output_layer = layers.Dense(units=2, activation='softmax', name='attrition')(attrition_hidden_layer)"
      ]
    },
    {
      "cell_type": "code",
      "execution_count": 236,
      "metadata": {
        "colab": {
          "base_uri": "https://localhost:8080/"
        },
        "id": "twmuejdxGc3T",
        "outputId": "25096308-b68b-42e4-e4ea-ae82e97c435a"
      },
      "outputs": [
        {
          "data": {
            "text/html": [
              "<pre style=\"white-space:pre;overflow-x:auto;line-height:normal;font-family:Menlo,'DejaVu Sans Mono',consolas,'Courier New',monospace\"><span style=\"font-weight: bold\">Model: \"functional_11\"</span>\n",
              "</pre>\n"
            ],
            "text/plain": [
              "\u001b[1mModel: \"functional_11\"\u001b[0m\n"
            ]
          },
          "metadata": {},
          "output_type": "display_data"
        },
        {
          "data": {
            "text/html": [
              "<pre style=\"white-space:pre;overflow-x:auto;line-height:normal;font-family:Menlo,'DejaVu Sans Mono',consolas,'Courier New',monospace\">┏━━━━━━━━━━━━━━━━━━━━━┳━━━━━━━━━━━━━━━━━━━┳━━━━━━━━━━━━┳━━━━━━━━━━━━━━━━━━━┓\n",
              "┃<span style=\"font-weight: bold\"> Layer (type)        </span>┃<span style=\"font-weight: bold\"> Output Shape      </span>┃<span style=\"font-weight: bold\">    Param # </span>┃<span style=\"font-weight: bold\"> Connected to      </span>┃\n",
              "┡━━━━━━━━━━━━━━━━━━━━━╇━━━━━━━━━━━━━━━━━━━╇━━━━━━━━━━━━╇━━━━━━━━━━━━━━━━━━━┩\n",
              "│ input (<span style=\"color: #0087ff; text-decoration-color: #0087ff\">InputLayer</span>)  │ (<span style=\"color: #00d7ff; text-decoration-color: #00d7ff\">None</span>, <span style=\"color: #00af00; text-decoration-color: #00af00\">11</span>)        │          <span style=\"color: #00af00; text-decoration-color: #00af00\">0</span> │ -                 │\n",
              "├─────────────────────┼───────────────────┼────────────┼───────────────────┤\n",
              "│ dense_57 (<span style=\"color: #0087ff; text-decoration-color: #0087ff\">Dense</span>)    │ (<span style=\"color: #00d7ff; text-decoration-color: #00d7ff\">None</span>, <span style=\"color: #00af00; text-decoration-color: #00af00\">64</span>)        │        <span style=\"color: #00af00; text-decoration-color: #00af00\">768</span> │ input[<span style=\"color: #00af00; text-decoration-color: #00af00\">0</span>][<span style=\"color: #00af00; text-decoration-color: #00af00\">0</span>]       │\n",
              "├─────────────────────┼───────────────────┼────────────┼───────────────────┤\n",
              "│ dense_58 (<span style=\"color: #0087ff; text-decoration-color: #0087ff\">Dense</span>)    │ (<span style=\"color: #00d7ff; text-decoration-color: #00d7ff\">None</span>, <span style=\"color: #00af00; text-decoration-color: #00af00\">128</span>)       │      <span style=\"color: #00af00; text-decoration-color: #00af00\">8,320</span> │ dense_57[<span style=\"color: #00af00; text-decoration-color: #00af00\">0</span>][<span style=\"color: #00af00; text-decoration-color: #00af00\">0</span>]    │\n",
              "├─────────────────────┼───────────────────┼────────────┼───────────────────┤\n",
              "│ dense_59 (<span style=\"color: #0087ff; text-decoration-color: #0087ff\">Dense</span>)    │ (<span style=\"color: #00d7ff; text-decoration-color: #00d7ff\">None</span>, <span style=\"color: #00af00; text-decoration-color: #00af00\">32</span>)        │      <span style=\"color: #00af00; text-decoration-color: #00af00\">4,128</span> │ dense_58[<span style=\"color: #00af00; text-decoration-color: #00af00\">0</span>][<span style=\"color: #00af00; text-decoration-color: #00af00\">0</span>]    │\n",
              "├─────────────────────┼───────────────────┼────────────┼───────────────────┤\n",
              "│ dense_60 (<span style=\"color: #0087ff; text-decoration-color: #0087ff\">Dense</span>)    │ (<span style=\"color: #00d7ff; text-decoration-color: #00d7ff\">None</span>, <span style=\"color: #00af00; text-decoration-color: #00af00\">32</span>)        │      <span style=\"color: #00af00; text-decoration-color: #00af00\">4,128</span> │ dense_58[<span style=\"color: #00af00; text-decoration-color: #00af00\">0</span>][<span style=\"color: #00af00; text-decoration-color: #00af00\">0</span>]    │\n",
              "├─────────────────────┼───────────────────┼────────────┼───────────────────┤\n",
              "│ department (<span style=\"color: #0087ff; text-decoration-color: #0087ff\">Dense</span>)  │ (<span style=\"color: #00d7ff; text-decoration-color: #00d7ff\">None</span>, <span style=\"color: #00af00; text-decoration-color: #00af00\">3</span>)         │         <span style=\"color: #00af00; text-decoration-color: #00af00\">99</span> │ dense_59[<span style=\"color: #00af00; text-decoration-color: #00af00\">0</span>][<span style=\"color: #00af00; text-decoration-color: #00af00\">0</span>]    │\n",
              "├─────────────────────┼───────────────────┼────────────┼───────────────────┤\n",
              "│ attrition (<span style=\"color: #0087ff; text-decoration-color: #0087ff\">Dense</span>)   │ (<span style=\"color: #00d7ff; text-decoration-color: #00d7ff\">None</span>, <span style=\"color: #00af00; text-decoration-color: #00af00\">2</span>)         │         <span style=\"color: #00af00; text-decoration-color: #00af00\">66</span> │ dense_60[<span style=\"color: #00af00; text-decoration-color: #00af00\">0</span>][<span style=\"color: #00af00; text-decoration-color: #00af00\">0</span>]    │\n",
              "└─────────────────────┴───────────────────┴────────────┴───────────────────┘\n",
              "</pre>\n"
            ],
            "text/plain": [
              "┏━━━━━━━━━━━━━━━━━━━━━┳━━━━━━━━━━━━━━━━━━━┳━━━━━━━━━━━━┳━━━━━━━━━━━━━━━━━━━┓\n",
              "┃\u001b[1m \u001b[0m\u001b[1mLayer (type)       \u001b[0m\u001b[1m \u001b[0m┃\u001b[1m \u001b[0m\u001b[1mOutput Shape     \u001b[0m\u001b[1m \u001b[0m┃\u001b[1m \u001b[0m\u001b[1m   Param #\u001b[0m\u001b[1m \u001b[0m┃\u001b[1m \u001b[0m\u001b[1mConnected to     \u001b[0m\u001b[1m \u001b[0m┃\n",
              "┡━━━━━━━━━━━━━━━━━━━━━╇━━━━━━━━━━━━━━━━━━━╇━━━━━━━━━━━━╇━━━━━━━━━━━━━━━━━━━┩\n",
              "│ input (\u001b[38;5;33mInputLayer\u001b[0m)  │ (\u001b[38;5;45mNone\u001b[0m, \u001b[38;5;34m11\u001b[0m)        │          \u001b[38;5;34m0\u001b[0m │ -                 │\n",
              "├─────────────────────┼───────────────────┼────────────┼───────────────────┤\n",
              "│ dense_57 (\u001b[38;5;33mDense\u001b[0m)    │ (\u001b[38;5;45mNone\u001b[0m, \u001b[38;5;34m64\u001b[0m)        │        \u001b[38;5;34m768\u001b[0m │ input[\u001b[38;5;34m0\u001b[0m][\u001b[38;5;34m0\u001b[0m]       │\n",
              "├─────────────────────┼───────────────────┼────────────┼───────────────────┤\n",
              "│ dense_58 (\u001b[38;5;33mDense\u001b[0m)    │ (\u001b[38;5;45mNone\u001b[0m, \u001b[38;5;34m128\u001b[0m)       │      \u001b[38;5;34m8,320\u001b[0m │ dense_57[\u001b[38;5;34m0\u001b[0m][\u001b[38;5;34m0\u001b[0m]    │\n",
              "├─────────────────────┼───────────────────┼────────────┼───────────────────┤\n",
              "│ dense_59 (\u001b[38;5;33mDense\u001b[0m)    │ (\u001b[38;5;45mNone\u001b[0m, \u001b[38;5;34m32\u001b[0m)        │      \u001b[38;5;34m4,128\u001b[0m │ dense_58[\u001b[38;5;34m0\u001b[0m][\u001b[38;5;34m0\u001b[0m]    │\n",
              "├─────────────────────┼───────────────────┼────────────┼───────────────────┤\n",
              "│ dense_60 (\u001b[38;5;33mDense\u001b[0m)    │ (\u001b[38;5;45mNone\u001b[0m, \u001b[38;5;34m32\u001b[0m)        │      \u001b[38;5;34m4,128\u001b[0m │ dense_58[\u001b[38;5;34m0\u001b[0m][\u001b[38;5;34m0\u001b[0m]    │\n",
              "├─────────────────────┼───────────────────┼────────────┼───────────────────┤\n",
              "│ department (\u001b[38;5;33mDense\u001b[0m)  │ (\u001b[38;5;45mNone\u001b[0m, \u001b[38;5;34m3\u001b[0m)         │         \u001b[38;5;34m99\u001b[0m │ dense_59[\u001b[38;5;34m0\u001b[0m][\u001b[38;5;34m0\u001b[0m]    │\n",
              "├─────────────────────┼───────────────────┼────────────┼───────────────────┤\n",
              "│ attrition (\u001b[38;5;33mDense\u001b[0m)   │ (\u001b[38;5;45mNone\u001b[0m, \u001b[38;5;34m2\u001b[0m)         │         \u001b[38;5;34m66\u001b[0m │ dense_60[\u001b[38;5;34m0\u001b[0m][\u001b[38;5;34m0\u001b[0m]    │\n",
              "└─────────────────────┴───────────────────┴────────────┴───────────────────┘\n"
            ]
          },
          "metadata": {},
          "output_type": "display_data"
        },
        {
          "data": {
            "text/html": [
              "<pre style=\"white-space:pre;overflow-x:auto;line-height:normal;font-family:Menlo,'DejaVu Sans Mono',consolas,'Courier New',monospace\"><span style=\"font-weight: bold\"> Total params: </span><span style=\"color: #00af00; text-decoration-color: #00af00\">17,509</span> (68.39 KB)\n",
              "</pre>\n"
            ],
            "text/plain": [
              "\u001b[1m Total params: \u001b[0m\u001b[38;5;34m17,509\u001b[0m (68.39 KB)\n"
            ]
          },
          "metadata": {},
          "output_type": "display_data"
        },
        {
          "data": {
            "text/html": [
              "<pre style=\"white-space:pre;overflow-x:auto;line-height:normal;font-family:Menlo,'DejaVu Sans Mono',consolas,'Courier New',monospace\"><span style=\"font-weight: bold\"> Trainable params: </span><span style=\"color: #00af00; text-decoration-color: #00af00\">17,509</span> (68.39 KB)\n",
              "</pre>\n"
            ],
            "text/plain": [
              "\u001b[1m Trainable params: \u001b[0m\u001b[38;5;34m17,509\u001b[0m (68.39 KB)\n"
            ]
          },
          "metadata": {},
          "output_type": "display_data"
        },
        {
          "data": {
            "text/html": [
              "<pre style=\"white-space:pre;overflow-x:auto;line-height:normal;font-family:Menlo,'DejaVu Sans Mono',consolas,'Courier New',monospace\"><span style=\"font-weight: bold\"> Non-trainable params: </span><span style=\"color: #00af00; text-decoration-color: #00af00\">0</span> (0.00 B)\n",
              "</pre>\n"
            ],
            "text/plain": [
              "\u001b[1m Non-trainable params: \u001b[0m\u001b[38;5;34m0\u001b[0m (0.00 B)\n"
            ]
          },
          "metadata": {},
          "output_type": "display_data"
        }
      ],
      "source": [
        "# Create the model\n",
        "model = Model(inputs=input_layer, outputs=[department_output_layer, attrition_output_layer])\n",
        "\n",
        "\n",
        "# Compile the model\n",
        "model.compile(optimizer='adam',\n",
        "              loss={'department': 'categorical_crossentropy', 'attrition': 'categorical_crossentropy'},\n",
        "              metrics={'department': 'accuracy', 'attrition': 'accuracy'})\n",
        "\n",
        "# Summarize the model\n",
        "model.summary()"
      ]
    },
    {
      "cell_type": "code",
      "execution_count": 237,
      "metadata": {},
      "outputs": [
        {
          "name": "stdout",
          "output_type": "stream",
          "text": [
            "(1102, 11)\n",
            "(1102, 3)\n",
            "(1102, 2)\n"
          ]
        }
      ],
      "source": [
        "print(X_train.shape)\n",
        "print(y_train_encoded_dept.shape)\n",
        "print(y_train_encoded_att.shape)"
      ]
    },
    {
      "cell_type": "code",
      "execution_count": 238,
      "metadata": {
        "colab": {
          "base_uri": "https://localhost:8080/"
        },
        "id": "c8oGy0dpGc3U",
        "outputId": "cc667d43-28cf-42d4-d719-c2bc02888d30"
      },
      "outputs": [
        {
          "name": "stdout",
          "output_type": "stream",
          "text": [
            "Epoch 1/100\n",
            "35/35 - 1s - 16ms/step - attrition_accuracy: 0.8076 - attrition_loss: 0.4774 - department_accuracy: 0.6434 - department_loss: 0.8268 - loss: 1.3130\n",
            "Epoch 2/100\n",
            "35/35 - 0s - 964us/step - attrition_accuracy: 0.8276 - attrition_loss: 0.4168 - department_accuracy: 0.6633 - department_loss: 0.7578 - loss: 1.1763\n",
            "Epoch 3/100\n",
            "35/35 - 0s - 954us/step - attrition_accuracy: 0.8330 - attrition_loss: 0.3949 - department_accuracy: 0.6652 - department_loss: 0.7420 - loss: 1.1361\n",
            "Epoch 4/100\n",
            "35/35 - 0s - 935us/step - attrition_accuracy: 0.8475 - attrition_loss: 0.3873 - department_accuracy: 0.6670 - department_loss: 0.7310 - loss: 1.1142\n",
            "Epoch 5/100\n",
            "35/35 - 0s - 1ms/step - attrition_accuracy: 0.8593 - attrition_loss: 0.3668 - department_accuracy: 0.6733 - department_loss: 0.7283 - loss: 1.0925\n",
            "Epoch 6/100\n",
            "35/35 - 0s - 962us/step - attrition_accuracy: 0.8621 - attrition_loss: 0.3553 - department_accuracy: 0.6788 - department_loss: 0.7243 - loss: 1.0803\n",
            "Epoch 7/100\n",
            "35/35 - 0s - 990us/step - attrition_accuracy: 0.8621 - attrition_loss: 0.3462 - department_accuracy: 0.6751 - department_loss: 0.7222 - loss: 1.0654\n",
            "Epoch 8/100\n",
            "35/35 - 0s - 957us/step - attrition_accuracy: 0.8693 - attrition_loss: 0.3285 - department_accuracy: 0.6751 - department_loss: 0.7095 - loss: 1.0392\n",
            "Epoch 9/100\n",
            "35/35 - 0s - 916us/step - attrition_accuracy: 0.8684 - attrition_loss: 0.3306 - department_accuracy: 0.6806 - department_loss: 0.7024 - loss: 1.0258\n",
            "Epoch 10/100\n",
            "35/35 - 0s - 953us/step - attrition_accuracy: 0.8757 - attrition_loss: 0.3168 - department_accuracy: 0.6869 - department_loss: 0.6929 - loss: 1.0076\n",
            "Epoch 11/100\n",
            "35/35 - 0s - 910us/step - attrition_accuracy: 0.8793 - attrition_loss: 0.3101 - department_accuracy: 0.6915 - department_loss: 0.6840 - loss: 0.9962\n",
            "Epoch 12/100\n",
            "35/35 - 0s - 1ms/step - attrition_accuracy: 0.8857 - attrition_loss: 0.3016 - department_accuracy: 0.7042 - department_loss: 0.6768 - loss: 0.9769\n",
            "Epoch 13/100\n",
            "35/35 - 0s - 1ms/step - attrition_accuracy: 0.8775 - attrition_loss: 0.2985 - department_accuracy: 0.6996 - department_loss: 0.6571 - loss: 0.9585\n",
            "Epoch 14/100\n",
            "35/35 - 0s - 1ms/step - attrition_accuracy: 0.8893 - attrition_loss: 0.2884 - department_accuracy: 0.6969 - department_loss: 0.6567 - loss: 0.9416\n",
            "Epoch 15/100\n",
            "35/35 - 0s - 1ms/step - attrition_accuracy: 0.8911 - attrition_loss: 0.2788 - department_accuracy: 0.7087 - department_loss: 0.6477 - loss: 0.9260\n",
            "Epoch 16/100\n",
            "35/35 - 0s - 1ms/step - attrition_accuracy: 0.8966 - attrition_loss: 0.2657 - department_accuracy: 0.7105 - department_loss: 0.6309 - loss: 0.8986\n",
            "Epoch 17/100\n",
            "35/35 - 0s - 1ms/step - attrition_accuracy: 0.8966 - attrition_loss: 0.2639 - department_accuracy: 0.7178 - department_loss: 0.6176 - loss: 0.8867\n",
            "Epoch 18/100\n",
            "35/35 - 0s - 2ms/step - attrition_accuracy: 0.8956 - attrition_loss: 0.2544 - department_accuracy: 0.7305 - department_loss: 0.6082 - loss: 0.8645\n",
            "Epoch 19/100\n",
            "35/35 - 0s - 1ms/step - attrition_accuracy: 0.9020 - attrition_loss: 0.2640 - department_accuracy: 0.7359 - department_loss: 0.5969 - loss: 0.8583\n",
            "Epoch 20/100\n",
            "35/35 - 0s - 1ms/step - attrition_accuracy: 0.8984 - attrition_loss: 0.2408 - department_accuracy: 0.7414 - department_loss: 0.5789 - loss: 0.8216\n",
            "Epoch 21/100\n",
            "35/35 - 0s - 1ms/step - attrition_accuracy: 0.8984 - attrition_loss: 0.2409 - department_accuracy: 0.7650 - department_loss: 0.5672 - loss: 0.8068\n",
            "Epoch 22/100\n",
            "35/35 - 0s - 1ms/step - attrition_accuracy: 0.9038 - attrition_loss: 0.2316 - department_accuracy: 0.7659 - department_loss: 0.5549 - loss: 0.7916\n",
            "Epoch 23/100\n",
            "35/35 - 0s - 925us/step - attrition_accuracy: 0.9056 - attrition_loss: 0.2213 - department_accuracy: 0.7668 - department_loss: 0.5433 - loss: 0.7676\n",
            "Epoch 24/100\n",
            "35/35 - 0s - 902us/step - attrition_accuracy: 0.9056 - attrition_loss: 0.2173 - department_accuracy: 0.7840 - department_loss: 0.5203 - loss: 0.7351\n",
            "Epoch 25/100\n",
            "35/35 - 0s - 952us/step - attrition_accuracy: 0.9093 - attrition_loss: 0.2149 - department_accuracy: 0.7822 - department_loss: 0.5091 - loss: 0.7216\n",
            "Epoch 26/100\n",
            "35/35 - 0s - 904us/step - attrition_accuracy: 0.9093 - attrition_loss: 0.2058 - department_accuracy: 0.8004 - department_loss: 0.4951 - loss: 0.7033\n",
            "Epoch 27/100\n",
            "35/35 - 0s - 923us/step - attrition_accuracy: 0.9220 - attrition_loss: 0.1924 - department_accuracy: 0.7976 - department_loss: 0.4902 - loss: 0.6798\n",
            "Epoch 28/100\n",
            "35/35 - 0s - 1ms/step - attrition_accuracy: 0.9265 - attrition_loss: 0.1860 - department_accuracy: 0.8212 - department_loss: 0.4696 - loss: 0.6569\n",
            "Epoch 29/100\n",
            "35/35 - 0s - 1ms/step - attrition_accuracy: 0.9220 - attrition_loss: 0.1846 - department_accuracy: 0.8258 - department_loss: 0.4504 - loss: 0.6291\n",
            "Epoch 30/100\n",
            "35/35 - 0s - 1ms/step - attrition_accuracy: 0.9319 - attrition_loss: 0.1727 - department_accuracy: 0.8167 - department_loss: 0.4532 - loss: 0.6226\n",
            "Epoch 31/100\n",
            "35/35 - 0s - 1ms/step - attrition_accuracy: 0.9301 - attrition_loss: 0.1662 - department_accuracy: 0.8348 - department_loss: 0.4282 - loss: 0.5982\n",
            "Epoch 32/100\n",
            "35/35 - 0s - 993us/step - attrition_accuracy: 0.9428 - attrition_loss: 0.1549 - department_accuracy: 0.8367 - department_loss: 0.4130 - loss: 0.5681\n",
            "Epoch 33/100\n",
            "35/35 - 0s - 1ms/step - attrition_accuracy: 0.9310 - attrition_loss: 0.1603 - department_accuracy: 0.8321 - department_loss: 0.4071 - loss: 0.5630\n",
            "Epoch 34/100\n",
            "35/35 - 0s - 1ms/step - attrition_accuracy: 0.9437 - attrition_loss: 0.1481 - department_accuracy: 0.8603 - department_loss: 0.3841 - loss: 0.5283\n",
            "Epoch 35/100\n",
            "35/35 - 0s - 1ms/step - attrition_accuracy: 0.9483 - attrition_loss: 0.1505 - department_accuracy: 0.8603 - department_loss: 0.3798 - loss: 0.5248\n",
            "Epoch 36/100\n",
            "35/35 - 0s - 987us/step - attrition_accuracy: 0.9446 - attrition_loss: 0.1390 - department_accuracy: 0.8711 - department_loss: 0.3687 - loss: 0.5059\n",
            "Epoch 37/100\n",
            "35/35 - 0s - 1ms/step - attrition_accuracy: 0.9510 - attrition_loss: 0.1281 - department_accuracy: 0.8748 - department_loss: 0.3473 - loss: 0.4733\n",
            "Epoch 38/100\n",
            "35/35 - 0s - 1ms/step - attrition_accuracy: 0.9601 - attrition_loss: 0.1167 - department_accuracy: 0.8829 - department_loss: 0.3292 - loss: 0.4493\n",
            "Epoch 39/100\n",
            "35/35 - 0s - 1ms/step - attrition_accuracy: 0.9592 - attrition_loss: 0.1168 - department_accuracy: 0.8893 - department_loss: 0.3228 - loss: 0.4381\n",
            "Epoch 40/100\n",
            "35/35 - 0s - 1ms/step - attrition_accuracy: 0.9610 - attrition_loss: 0.1151 - department_accuracy: 0.8848 - department_loss: 0.3184 - loss: 0.4332\n",
            "Epoch 41/100\n",
            "35/35 - 0s - 2ms/step - attrition_accuracy: 0.9574 - attrition_loss: 0.1122 - department_accuracy: 0.9011 - department_loss: 0.2934 - loss: 0.4085\n",
            "Epoch 42/100\n",
            "35/35 - 0s - 1ms/step - attrition_accuracy: 0.9537 - attrition_loss: 0.1091 - department_accuracy: 0.9038 - department_loss: 0.2877 - loss: 0.3954\n",
            "Epoch 43/100\n",
            "35/35 - 0s - 1ms/step - attrition_accuracy: 0.9637 - attrition_loss: 0.0968 - department_accuracy: 0.9120 - department_loss: 0.2731 - loss: 0.3688\n",
            "Epoch 44/100\n",
            "35/35 - 0s - 1ms/step - attrition_accuracy: 0.9646 - attrition_loss: 0.0919 - department_accuracy: 0.9120 - department_loss: 0.2613 - loss: 0.3563\n",
            "Epoch 45/100\n",
            "35/35 - 0s - 1ms/step - attrition_accuracy: 0.9664 - attrition_loss: 0.0888 - department_accuracy: 0.9183 - department_loss: 0.2564 - loss: 0.3448\n",
            "Epoch 46/100\n",
            "35/35 - 0s - 994us/step - attrition_accuracy: 0.9691 - attrition_loss: 0.0844 - department_accuracy: 0.9211 - department_loss: 0.2464 - loss: 0.3282\n",
            "Epoch 47/100\n",
            "35/35 - 0s - 1ms/step - attrition_accuracy: 0.9773 - attrition_loss: 0.0834 - department_accuracy: 0.9274 - department_loss: 0.2288 - loss: 0.3133\n",
            "Epoch 48/100\n",
            "35/35 - 0s - 1ms/step - attrition_accuracy: 0.9773 - attrition_loss: 0.0734 - department_accuracy: 0.9347 - department_loss: 0.2271 - loss: 0.2986\n",
            "Epoch 49/100\n",
            "35/35 - 0s - 987us/step - attrition_accuracy: 0.9755 - attrition_loss: 0.0732 - department_accuracy: 0.9328 - department_loss: 0.2188 - loss: 0.2933\n",
            "Epoch 50/100\n",
            "35/35 - 0s - 1ms/step - attrition_accuracy: 0.9800 - attrition_loss: 0.0685 - department_accuracy: 0.9374 - department_loss: 0.1989 - loss: 0.2692\n",
            "Epoch 51/100\n",
            "35/35 - 0s - 1ms/step - attrition_accuracy: 0.9800 - attrition_loss: 0.0651 - department_accuracy: 0.9401 - department_loss: 0.2059 - loss: 0.2695\n",
            "Epoch 52/100\n",
            "35/35 - 0s - 1ms/step - attrition_accuracy: 0.9773 - attrition_loss: 0.0630 - department_accuracy: 0.9437 - department_loss: 0.1961 - loss: 0.2551\n",
            "Epoch 53/100\n",
            "35/35 - 0s - 1ms/step - attrition_accuracy: 0.9755 - attrition_loss: 0.0697 - department_accuracy: 0.9492 - department_loss: 0.1920 - loss: 0.2595\n",
            "Epoch 54/100\n",
            "35/35 - 0s - 1ms/step - attrition_accuracy: 0.9800 - attrition_loss: 0.0623 - department_accuracy: 0.9519 - department_loss: 0.1809 - loss: 0.2402\n",
            "Epoch 55/100\n",
            "35/35 - 0s - 1ms/step - attrition_accuracy: 0.9791 - attrition_loss: 0.0608 - department_accuracy: 0.9564 - department_loss: 0.1735 - loss: 0.2359\n",
            "Epoch 56/100\n",
            "35/35 - 0s - 1ms/step - attrition_accuracy: 0.9918 - attrition_loss: 0.0459 - department_accuracy: 0.9628 - department_loss: 0.1590 - loss: 0.2023\n",
            "Epoch 57/100\n",
            "35/35 - 0s - 1ms/step - attrition_accuracy: 0.9819 - attrition_loss: 0.0530 - department_accuracy: 0.9583 - department_loss: 0.1571 - loss: 0.2089\n",
            "Epoch 58/100\n",
            "35/35 - 0s - 1ms/step - attrition_accuracy: 0.9791 - attrition_loss: 0.0653 - department_accuracy: 0.9673 - department_loss: 0.1457 - loss: 0.2111\n",
            "Epoch 59/100\n",
            "35/35 - 0s - 1ms/step - attrition_accuracy: 0.9864 - attrition_loss: 0.0489 - department_accuracy: 0.9619 - department_loss: 0.1416 - loss: 0.1893\n",
            "Epoch 60/100\n",
            "35/35 - 0s - 1ms/step - attrition_accuracy: 0.9882 - attrition_loss: 0.0460 - department_accuracy: 0.9637 - department_loss: 0.1454 - loss: 0.1922\n",
            "Epoch 61/100\n",
            "35/35 - 0s - 1ms/step - attrition_accuracy: 0.9873 - attrition_loss: 0.0438 - department_accuracy: 0.9710 - department_loss: 0.1308 - loss: 0.1742\n",
            "Epoch 62/100\n",
            "35/35 - 0s - 1ms/step - attrition_accuracy: 0.9909 - attrition_loss: 0.0370 - department_accuracy: 0.9728 - department_loss: 0.1180 - loss: 0.1560\n",
            "Epoch 63/100\n",
            "35/35 - 0s - 1ms/step - attrition_accuracy: 0.9964 - attrition_loss: 0.0379 - department_accuracy: 0.9828 - department_loss: 0.1137 - loss: 0.1527\n",
            "Epoch 64/100\n",
            "35/35 - 0s - 1ms/step - attrition_accuracy: 0.9855 - attrition_loss: 0.0411 - department_accuracy: 0.9764 - department_loss: 0.1166 - loss: 0.1564\n",
            "Epoch 65/100\n",
            "35/35 - 0s - 1ms/step - attrition_accuracy: 0.9882 - attrition_loss: 0.0388 - department_accuracy: 0.9746 - department_loss: 0.1095 - loss: 0.1495\n",
            "Epoch 66/100\n",
            "35/35 - 0s - 1ms/step - attrition_accuracy: 0.9900 - attrition_loss: 0.0336 - department_accuracy: 0.9819 - department_loss: 0.1013 - loss: 0.1334\n",
            "Epoch 67/100\n",
            "35/35 - 0s - 2ms/step - attrition_accuracy: 0.9936 - attrition_loss: 0.0309 - department_accuracy: 0.9773 - department_loss: 0.1045 - loss: 0.1358\n",
            "Epoch 68/100\n",
            "35/35 - 0s - 1ms/step - attrition_accuracy: 0.9982 - attrition_loss: 0.0223 - department_accuracy: 0.9846 - department_loss: 0.0924 - loss: 0.1135\n",
            "Epoch 69/100\n",
            "35/35 - 0s - 956us/step - attrition_accuracy: 0.9973 - attrition_loss: 0.0249 - department_accuracy: 0.9873 - department_loss: 0.0943 - loss: 0.1184\n",
            "Epoch 70/100\n",
            "35/35 - 0s - 1ms/step - attrition_accuracy: 0.9936 - attrition_loss: 0.0280 - department_accuracy: 0.9837 - department_loss: 0.0839 - loss: 0.1122\n",
            "Epoch 71/100\n",
            "35/35 - 0s - 1ms/step - attrition_accuracy: 0.9982 - attrition_loss: 0.0223 - department_accuracy: 0.9682 - department_loss: 0.1160 - loss: 0.1376\n",
            "Epoch 72/100\n",
            "35/35 - 0s - 1ms/step - attrition_accuracy: 0.9991 - attrition_loss: 0.0200 - department_accuracy: 0.9891 - department_loss: 0.0841 - loss: 0.1043\n",
            "Epoch 73/100\n",
            "35/35 - 0s - 1ms/step - attrition_accuracy: 0.9991 - attrition_loss: 0.0179 - department_accuracy: 0.9873 - department_loss: 0.0768 - loss: 0.0937\n",
            "Epoch 74/100\n",
            "35/35 - 0s - 1ms/step - attrition_accuracy: 0.9982 - attrition_loss: 0.0190 - department_accuracy: 0.9909 - department_loss: 0.0716 - loss: 0.0903\n",
            "Epoch 75/100\n",
            "35/35 - 0s - 946us/step - attrition_accuracy: 0.9991 - attrition_loss: 0.0178 - department_accuracy: 0.9882 - department_loss: 0.0658 - loss: 0.0840\n",
            "Epoch 76/100\n",
            "35/35 - 0s - 920us/step - attrition_accuracy: 0.9991 - attrition_loss: 0.0150 - department_accuracy: 0.9936 - department_loss: 0.0616 - loss: 0.0768\n",
            "Epoch 77/100\n",
            "35/35 - 0s - 941us/step - attrition_accuracy: 0.9982 - attrition_loss: 0.0166 - department_accuracy: 0.9936 - department_loss: 0.0564 - loss: 0.0737\n",
            "Epoch 78/100\n",
            "35/35 - 0s - 927us/step - attrition_accuracy: 0.9973 - attrition_loss: 0.0151 - department_accuracy: 0.9946 - department_loss: 0.0532 - loss: 0.0674\n",
            "Epoch 79/100\n",
            "35/35 - 0s - 968us/step - attrition_accuracy: 0.9991 - attrition_loss: 0.0133 - department_accuracy: 0.9946 - department_loss: 0.0479 - loss: 0.0614\n",
            "Epoch 80/100\n",
            "35/35 - 0s - 996us/step - attrition_accuracy: 0.9946 - attrition_loss: 0.0206 - department_accuracy: 0.9946 - department_loss: 0.0489 - loss: 0.0700\n",
            "Epoch 81/100\n",
            "35/35 - 0s - 1ms/step - attrition_accuracy: 0.9973 - attrition_loss: 0.0156 - department_accuracy: 0.9955 - department_loss: 0.0473 - loss: 0.0635\n",
            "Epoch 82/100\n",
            "35/35 - 0s - 1ms/step - attrition_accuracy: 1.0000 - attrition_loss: 0.0127 - department_accuracy: 0.9964 - department_loss: 0.0446 - loss: 0.0570\n",
            "Epoch 83/100\n",
            "35/35 - 0s - 1ms/step - attrition_accuracy: 0.9982 - attrition_loss: 0.0112 - department_accuracy: 0.9927 - department_loss: 0.0452 - loss: 0.0561\n",
            "Epoch 84/100\n",
            "35/35 - 0s - 1ms/step - attrition_accuracy: 0.9982 - attrition_loss: 0.0109 - department_accuracy: 0.9973 - department_loss: 0.0421 - loss: 0.0532\n",
            "Epoch 85/100\n",
            "35/35 - 0s - 1ms/step - attrition_accuracy: 0.9973 - attrition_loss: 0.0155 - department_accuracy: 0.9955 - department_loss: 0.0421 - loss: 0.0573\n",
            "Epoch 86/100\n",
            "35/35 - 0s - 1ms/step - attrition_accuracy: 0.9955 - attrition_loss: 0.0156 - department_accuracy: 0.9973 - department_loss: 0.0370 - loss: 0.0532\n",
            "Epoch 87/100\n",
            "35/35 - 0s - 1ms/step - attrition_accuracy: 0.9991 - attrition_loss: 0.0107 - department_accuracy: 0.9964 - department_loss: 0.0365 - loss: 0.0476\n",
            "Epoch 88/100\n",
            "35/35 - 0s - 978us/step - attrition_accuracy: 0.9973 - attrition_loss: 0.0102 - department_accuracy: 0.9955 - department_loss: 0.0379 - loss: 0.0477\n",
            "Epoch 89/100\n",
            "35/35 - 0s - 978us/step - attrition_accuracy: 1.0000 - attrition_loss: 0.0078 - department_accuracy: 0.9964 - department_loss: 0.0336 - loss: 0.0414\n",
            "Epoch 90/100\n",
            "35/35 - 0s - 982us/step - attrition_accuracy: 0.9964 - attrition_loss: 0.0119 - department_accuracy: 0.9973 - department_loss: 0.0324 - loss: 0.0446\n",
            "Epoch 91/100\n",
            "35/35 - 0s - 986us/step - attrition_accuracy: 0.9973 - attrition_loss: 0.0134 - department_accuracy: 0.9973 - department_loss: 0.0293 - loss: 0.0428\n",
            "Epoch 92/100\n",
            "35/35 - 0s - 994us/step - attrition_accuracy: 0.9973 - attrition_loss: 0.0171 - department_accuracy: 0.9964 - department_loss: 0.0308 - loss: 0.0474\n",
            "Epoch 93/100\n",
            "35/35 - 0s - 998us/step - attrition_accuracy: 0.9936 - attrition_loss: 0.0229 - department_accuracy: 0.9918 - department_loss: 0.0431 - loss: 0.0662\n",
            "Epoch 94/100\n",
            "35/35 - 0s - 941us/step - attrition_accuracy: 0.9946 - attrition_loss: 0.0210 - department_accuracy: 0.9946 - department_loss: 0.0421 - loss: 0.0611\n",
            "Epoch 95/100\n",
            "35/35 - 0s - 929us/step - attrition_accuracy: 0.9909 - attrition_loss: 0.0234 - department_accuracy: 0.9846 - department_loss: 0.0675 - loss: 0.0921\n",
            "Epoch 96/100\n",
            "35/35 - 0s - 905us/step - attrition_accuracy: 0.9882 - attrition_loss: 0.0313 - department_accuracy: 0.9918 - department_loss: 0.0472 - loss: 0.0788\n",
            "Epoch 97/100\n",
            "35/35 - 0s - 897us/step - attrition_accuracy: 0.9809 - attrition_loss: 0.0519 - department_accuracy: 0.9909 - department_loss: 0.0455 - loss: 0.0958\n",
            "Epoch 98/100\n",
            "35/35 - 0s - 937us/step - attrition_accuracy: 0.9664 - attrition_loss: 0.0931 - department_accuracy: 0.9755 - department_loss: 0.0680 - loss: 0.1610\n",
            "Epoch 99/100\n",
            "35/35 - 0s - 894us/step - attrition_accuracy: 0.9737 - attrition_loss: 0.0725 - department_accuracy: 0.9900 - department_loss: 0.0542 - loss: 0.1232\n",
            "Epoch 100/100\n",
            "35/35 - 0s - 918us/step - attrition_accuracy: 0.9882 - attrition_loss: 0.0450 - department_accuracy: 0.9946 - department_loss: 0.0417 - loss: 0.0875\n"
          ]
        },
        {
          "data": {
            "text/plain": [
              "<keras.src.callbacks.history.History at 0x163b16e10>"
            ]
          },
          "execution_count": 238,
          "metadata": {},
          "output_type": "execute_result"
        }
      ],
      "source": [
        "# Train the model\n",
        "model.fit(X_train_scaled,\n",
        "            {'department': y_train_encoded_dept, 'attrition': y_train_encoded_att},\n",
        "            epochs=100,\n",
        "            shuffle=True,\n",
        "            verbose=2)\n",
        "\n",
        "\n"
      ]
    },
    {
      "cell_type": "code",
      "execution_count": 239,
      "metadata": {
        "colab": {
          "base_uri": "https://localhost:8080/"
        },
        "id": "VsMoaQlgGc3U",
        "outputId": "1bd4e601-e964-4abc-ad83-aeecf6b696be"
      },
      "outputs": [
        {
          "name": "stdout",
          "output_type": "stream",
          "text": [
            "\u001b[1m12/12\u001b[0m \u001b[32m━━━━━━━━━━━━━━━━━━━━\u001b[0m\u001b[37m\u001b[0m \u001b[1m0s\u001b[0m 1ms/step - attrition_accuracy: 0.8104 - attrition_loss: 1.4280 - department_accuracy: 0.5082 - department_loss: 3.0466 - loss: 4.4855  \n"
          ]
        },
        {
          "data": {
            "text/plain": [
              "[4.501087188720703,\n",
              " 3.0222761631011963,\n",
              " 1.4078632593154907,\n",
              " 0.8152173757553101,\n",
              " 0.51902174949646]"
            ]
          },
          "execution_count": 239,
          "metadata": {},
          "output_type": "execute_result"
        }
      ],
      "source": [
        "# Evaluate the model with the testing data\n",
        "test_results = model.evaluate(X_test_scaled, {'department': y_test_encoded_dept, 'attrition': y_test_encoded_att})\n",
        "test_results"
      ]
    },
    {
      "cell_type": "code",
      "execution_count": 240,
      "metadata": {
        "colab": {
          "base_uri": "https://localhost:8080/"
        },
        "id": "ZlCtlHi0Vt54",
        "outputId": "bc21ef3e-80c2-4b38-9c29-79515bc23dec"
      },
      "outputs": [
        {
          "name": "stdout",
          "output_type": "stream",
          "text": [
            "Department Accuracy: 0.51902174949646\n",
            "Attrition Accuracy: 0.8152173757553101\n"
          ]
        }
      ],
      "source": [
        "# Print the accuracy for both department and attrition\n",
        "print(f\"Department Accuracy: {test_results[4]}\")\n",
        "print(f\"Attrition Accuracy: {test_results[3]}\")"
      ]
    },
    {
      "cell_type": "markdown",
      "metadata": {
        "id": "eGSyfsZfWOQM"
      },
      "source": [
        "# Summary\n",
        "\n",
        "In the provided space below, briefly answer the following questions.\n",
        "\n",
        "1. Is accuracy the best metric to use on this data? Why or why not?\n",
        "\n",
        "2. What activation functions did you choose for your output layers, and why?\n",
        "\n",
        "3. Can you name a few ways that this model might be improved?"
      ]
    },
    {
      "cell_type": "markdown",
      "metadata": {
        "id": "pi9SLpFnWvbF"
      },
      "source": [
        "YOUR ANSWERS HERE\n",
        "\n",
        "1. Accuracy is not the best metric with an imbalanced dataset.\n",
        "2. I chose softmax which is suitable for multi-class classification problems as it converts the raw output scores into probabilities that sum to 1, allowing for the interpretation of the output as the likelihood of each class.\n",
        "3. A couple ways this model could be improved would be through hyperparameter tuning and data augmentation. "
      ]
    },
    {
      "cell_type": "markdown",
      "metadata": {},
      "source": []
    }
  ],
  "metadata": {
    "colab": {
      "provenance": []
    },
    "kernelspec": {
      "display_name": "Python 3",
      "language": "python",
      "name": "python3"
    },
    "language_info": {
      "codemirror_mode": {
        "name": "ipython",
        "version": 3
      },
      "file_extension": ".py",
      "mimetype": "text/x-python",
      "name": "python",
      "nbconvert_exporter": "python",
      "pygments_lexer": "ipython3",
      "version": "3.12.4"
    },
    "vscode": {
      "interpreter": {
        "hash": "31f2aee4e71d21fbe5cf8b01ff0e069b9275f58929596ceb00d14d90e3e16cd6"
      }
    }
  },
  "nbformat": 4,
  "nbformat_minor": 0
}
